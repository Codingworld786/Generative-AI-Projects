{
 "cells": [
  {
   "cell_type": "markdown",
   "id": "ee1da0c6-ef7f-4a6f-86d0-8ba1f5ea27e1",
   "metadata": {},
   "source": [
    "# Use OpenAI to generate a summary of the content from a given website URL # 2025\n"
   ]
  },
  {
   "cell_type": "code",
   "execution_count": 2,
   "id": "5a22d3be-2763-49f2-86a0-ffb35a4ebe78",
   "metadata": {},
   "outputs": [],
   "source": [
    "# imports\n",
    "import os\n",
    "import requests\n",
    "from dotenv import load_dotenv\n",
    "from bs4 import BeautifulSoup\n",
    "from IPython.display import Markdown, display\n",
    "from openai import OpenAI\n"
   ]
  },
  {
   "cell_type": "code",
   "execution_count": 5,
   "id": "02779460-a31d-4947-bcd2-275e971ce5a3",
   "metadata": {},
   "outputs": [
    {
     "name": "stdout",
     "output_type": "stream",
     "text": [
      "API key found and looks good so far!\n"
     ]
    }
   ],
   "source": [
    "# Load environment variables in a file called .env\n",
    "\n",
    "load_dotenv(override=True)\n",
    "api_key = os.getenv('OPENAI_API_KEY')\n",
    "\n",
    "# Check the key\n",
    "\n",
    "if not api_key:\n",
    "    print(\"No API key was found, please set in env\")\n",
    "elif not api_key.startswith(\"sk-proj-\"):\n",
    "    print(\"An API key was found, but it doesn't start sk-proj-; please check you're using the right key \")\n",
    "elif api_key.strip() != api_key:\n",
    "    print(\"An API key was found, but it looks like it might have space or tab characters at the start or end\")\n",
    "else:\n",
    "    print(\"API key found and looks good so far!\")"
   ]
  },
  {
   "cell_type": "code",
   "execution_count": 7,
   "id": "4ff74ed2-fa64-4d86-8778-e7a5da5194d7",
   "metadata": {},
   "outputs": [],
   "source": [
    "openai=OpenAI()"
   ]
  },
  {
   "cell_type": "code",
   "execution_count": 8,
   "id": "aadbb1c5-76c4-40c8-8c4b-99bd2b2dd569",
   "metadata": {},
   "outputs": [
    {
     "name": "stdout",
     "output_type": "stream",
     "text": [
      "Sure! What would you like to talk about or explore today?\n"
     ]
    }
   ],
   "source": [
    "message = \"let's start\"\n",
    "response = openai.chat.completions.create(model=\"gpt-4o-mini\", messages=[{\"role\":\"user\", \"content\":message}])\n",
    "print(response.choices[0].message.content)"
   ]
  },
  {
   "cell_type": "code",
   "execution_count": 9,
   "id": "ed3d1c45-7ffd-4e7c-87bf-2fc75fa76d09",
   "metadata": {},
   "outputs": [],
   "source": [
    "# Some websites need you to use proper headers when fetching them:\n",
    "headers = {\n",
    " \"User-Agent\": \"Mozilla/5.0 (Windows NT 10.0; Win64; x64) AppleWebKit/537.36 (KHTML, like Gecko) Chrome/117.0.0.0 Safari/537.36\"\n",
    "}\n",
    "\n",
    "class Website:\n",
    "\n",
    "    def __init__(self, url):\n",
    "        \"\"\"\n",
    "        Create this Website object from the given url using the BeautifulSoup library\n",
    "        \"\"\"\n",
    "        self.url = url\n",
    "        response = requests.get(url, headers=headers)\n",
    "        soup = BeautifulSoup(response.content, 'html.parser')\n",
    "        self.title = soup.title.string if soup.title else \"No title found\"\n",
    "        for irrelevant in soup.body([\"script\", \"style\", \"img\", \"input\"]):\n",
    "            irrelevant.decompose()\n",
    "        self.text = soup.body.get_text(separator=\"\\n\", strip=True)"
   ]
  },
  {
   "cell_type": "code",
   "execution_count": 16,
   "id": "71fe5fa1-5f6c-4ba7-9fa4-63026f63b1cb",
   "metadata": {},
   "outputs": [
    {
     "name": "stdout",
     "output_type": "stream",
     "text": [
      "RCB VS PBKS, IPL 2025: Jio Hotstar crosses 57.8 crore views during final showdown, becomes most-viewed match of the season\n",
      "Home\n",
      "Lifestyle\n",
      "Astrology\n",
      "Whats Cooking\n",
      "Relationships\n",
      "Style\n",
      "Art and Culture\n",
      "Gardening\n",
      "Beauty and Care\n",
      "Health & Wellness\n",
      "Healthy Living\n",
      "Recipes\n",
      "Inspire\n",
      "Tips & Tricks\n",
      "Buzz\n",
      "Fashion\n",
      "Beauty & Care\n",
      "Celebrity Fashion\n",
      "Style\n",
      "Worth\n",
      "Investment\n",
      "Mutual Funds\n",
      "News\n",
      "Entertainment\n",
      "Bollywood\n",
      "Celebscoop\n",
      "Hollywood\n",
      "Originals\n",
      "Binge\n",
      "Explore\n",
      "Technology\n",
      "News\n",
      "Apps\n",
      "Science And Future\n",
      "Auto\n",
      "Current\n",
      "Electric\n",
      "Alternate\n",
      "Specials\n",
      "Year Ender 2024\n",
      "Treks Of India\n",
      "101 Abu Dhabi Dos\n",
      "Create on India\n",
      "Oscars 2024\n",
      "Wanderlust\n",
      "Ayodhya Ram Mandir\n",
      "#FitIT\n",
      "India On Plate\n",
      "Sustainability\n",
      "Give Up Plastic\n",
      "The Great Indian Brain Drain\n",
      "Careers\n",
      "Equals\n",
      "Trending\n",
      "RCB VS PBKS, IPL 2025: Jio Hotstar crosses 57.8 crore views during final showdown, becomes most-viewed match of the season\n",
      "RCB VS PBKS, IPL 2025: Jio Hotstar crosses 57.8 crore views during final showdown, becomes most-viewed match of the season\n",
      "Jio Hotstar has witnessed its viewership skyrocket as people from all across the country tune in to root for their favourite teams to compete against one another in the IPL 2025. Moreover, this year, during the season kickoff, the streaming platform noted a 35 per cent year-on-year (YoY) rise.\n",
      "Sneha Kumari\n",
      "Updated:\n",
      "Jun 04, 2025, 07:36 IST\n",
      "3  min read\n",
      "The eighteenth season of the Indian Premier League (IPL) has finally crowned its champion as Royal Challengers Bengaluru (RCB) lifted the trophy for the first time in 18 years. With this, the excitement was not only visible at the Narendra Modi Stadium in Ahmedabad, but it was also visible on the screens of our televisions, as the live streaming on the Jio Hotstar OTT platform saw over 57.8 crore (578 million) people stream the RCB vs. Punjab Kings (PBKS) match on Tuesday.\n",
      "Jio Hotstar has witnessed its viewership skyrocket as people from all across the country tune in to root for their favourite teams to compete against one another in the IPL 2025. Moreover, this year, during the season kickoff, the streaming platform noted a 35 per cent year-on-year (YoY) rise.\n",
      "While at the beginning of the season, the streaming platforms noticed a rise in viewership as it bagged 137 crore views on its first weekend.\n",
      "This wasn’t luck. This was loyalty paying rent after 18 years. 🤌\n",
      "pic.twitter.com/kOfZ7aX7RF\n",
      "— Royal Challengers Bengaluru (@RCBTweets)\n",
      "June 3, 2025\n",
      "A look at the rise in viewership of IPL matches in 2025\n",
      "IPL is valued at $12 billion, and its popularity in India is well-known. The first eight matches drew 288 million viewers, but by the 26th match, that figure had risen to 450 million, and all the credit goes to the new captains, different team combinations, changing regulations, and rivalries.\n",
      "Credit: X | @rcb\n",
      "On June 3, after winning the toss, Punjab Kings chose to bowl first against RCB for the first innings in the IPL finals. According to the live cricket score data, RCB has scored 14 runs from 1.1 overs with the loss of zero wickets in the first innings of the IPL finals.\n",
      "During the first over, more than 9.2 crore (92 million) people streamed the match on Jio Hotstar.\n",
      "Most Viewed Matches on JioHotstar in IPL 2025\n",
      "In the leading chart, RCB matches drew massive audiences, with their highest-viewed game clocking an astounding number of 57.8 crore views on June 3, RCB vs PBKS finals.\n",
      "Credit: Reddit | @sachinkr4325\n",
      "This is followed by the clash between Kolkata Knight Riders (KKR) and RCB, which garnered 41.4 crore views. Followed by an intense rivalry between Chennai Super Kings (CSK) and RCB that also captivated fans, with their matches drawing 37.3 crore and 34 crore views, respectively.\n",
      "Did IPL 2025 break the advertising records with Jio Hotstar?\n",
      "With franchise values reaching all-time highs, the tournament has grown into a billion-dollar spectacle. The eight original teams now command valuations of up to $2 billion, with top franchises like Mumbai Indians (MI), Chennai Super Kings (CSK), and Royal Challengers Bengaluru (RCB) leading the series.\n",
      "On the other hand, Jio Hotstar aimed to generate RS 4,500 crore in ad revenue through 32 significant sponsorship deals and a drive for 100 million paid streaming customers. IPL 2025 is predicted to shatter previous advertising records.\n",
      "To stay updated on the stories that are going viral, follow Indiatimes\n",
      "Trending\n",
      ".\n",
      "First Published:\n",
      "Jun 04, 2025, 07:28 IST\n",
      "Sneha Kumari\n",
      "Sneha is a dedicated writer with a passion for storytelling that enthrals and inspires the readers. With a background in Health and Wellness, she brings a unique perspective to every narrative. As a journalist, she aims to find solutions with authenticity and credibility.\n",
      "Read More\n",
      "Indiatimes®\n",
      "Powered by\n",
      "Get the NEWS that fits your groove.\n",
      "About Us\n",
      "•\n",
      "Work with Us\n",
      "•\n",
      "Contact Us\n",
      "•\n",
      "Terms & Conditions\n",
      "•\n",
      "Privacy Policy\n",
      "•\n",
      "Sitemap\n",
      "Quick Links\n",
      "Lifestyle\n",
      "•\n",
      "Health & Wellness\n",
      "•\n",
      "Fashion\n",
      "•\n",
      "Worth\n",
      "•\n",
      "Entertainment\n",
      "•\n",
      "Technology\n",
      "•\n",
      "Auto\n",
      "•\n",
      "Events\n",
      "•\n",
      "Gambling\n",
      "•\n",
      "SPECIALS\n",
      "Year Ender 2024\n",
      "•\n",
      "Treks Of India\n",
      "•\n",
      "101 Abu Dhabi Dos\n",
      "•\n",
      "Create on India\n",
      "•\n",
      "Oscars 2024\n",
      "•\n",
      "Wanderlust\n",
      "•\n",
      "Ayodhya Ram Mandir\n",
      "•\n",
      "#FitIT\n",
      "•\n",
      "India On Plate\n",
      "•\n",
      "Sustainability\n",
      "•\n",
      "Give Up Plastic\n",
      "•\n",
      "The Great Indian Brain Drain\n",
      "•\n",
      "Careers\n",
      "•\n",
      "Equals\n",
      "•\n",
      "Times of India\n",
      "•\n",
      "Economic Times\n",
      "•\n",
      "Navbharat Times\n",
      "•\n",
      "Maharashtra Times\n",
      "•\n",
      "Cricbuzz\n",
      "•\n",
      "Indiatimes Bangla\n",
      "•\n",
      "Vijay Karnataka\n",
      "•\n",
      "Telugu Samayam\n",
      "•\n",
      "Tamil Samayam\n",
      "•\n",
      "Malayalam Samayam\n",
      "Subscribe to Indiatimes Newsletter and get handpicked updates based on your interests!\n",
      "Connect With Us On\n",
      "Latest\n",
      "News\n",
      "Karate Kid Legends BO report day 5: Film earns Rs 51 lakh\n",
      "Selena Gomez trolled for vaping before Taylor Swift meetup\n",
      "Allu Arjun’s son emotional, pours water after RCB’s IPL win\n",
      "Wind Breaker chapter 182 release date and time\n",
      "Ganga Dussehra 2025: Date, subh muhurat, puja vidhi, celebration & significance\n",
      "How to change your Aadhaar card address online?\n",
      "Vijay Mallya's net worth: Inside his lavish lifestyle, assets, early life\n",
      "The Fairly OddParents Season 2 OTT Date - When and where to watch\n",
      "RCB wins: Social media flooded with hilarious memes; see here\n",
      "Best OTT releases this week: Streaming guide\n",
      "iPhone 17, iPhone 17 Air display leaks ahead of its launch in India\n",
      "Guava Shuishui, known for eating makeup, dies at 24\n",
      "RCB stars' bold IPL 2025 title manifestation finally comes true\n",
      "Underdogs OTT Release Date: When and where to watch series\n",
      "One Punch Man season 3 release window\n",
      "Akhil Akkineni to marry Zainab Ravdjee on June 6: Nagarjuna invites Telangana CM\n",
      "Virat Kohli and RCB create history after 18 years: A legendary IPL title win\n",
      "Phil Salt becomes dad, wins IPL for RCB in just 48 hours\n",
      "Copyright ©\n",
      "2025\n",
      "Times Internet Limited\n",
      ". All rights reserved\n",
      "Accept the updated Privacy & Cookie Policy\n",
      "The indiatimes.com\n",
      "privacy policy\n",
      "has been updated to align with the new data regulations in European Union. Please review and accept these changes below to continue using the website. We use cookies to ensure the best experience for you on our website.\n",
      "I agree to see customized ads that are tailor-made to my preferences\n",
      "Agree & continue\n",
      "4/6/2025 13:13:18\n"
     ]
    }
   ],
   "source": [
    "# lets try to parse india times article based on RCB win\n",
    "ed = Website(\"https://www.indiatimes.com/trending/rcb-vs-pbks-ipl-2025-jio-hotstar-crosses-578-crore-views-during-final-showdown-becomes-most-viewed-match-of-the-season-660265.html\")\n",
    "print(ed.title)\n",
    "print(ed.text)"
   ]
  },
  {
   "cell_type": "code",
   "execution_count": 33,
   "id": "10589671-2995-40b0-979e-0bfa8a7c3098",
   "metadata": {},
   "outputs": [],
   "source": [
    "# print(ed.text)"
   ]
  },
  {
   "cell_type": "markdown",
   "id": "244298c8-30ba-4c8d-bb17-f4349fb3f5bc",
   "metadata": {},
   "source": [
    "# System prompt: Instructs LLM's behavior and tone\n",
    "{\"role\": \"system\", \"content\": \"You are a polite travel guide.\"}\n",
    "\n",
    "# User prompt: Asks the actual task\n",
    "{\"role\": \"user\", \"content\": \"Suggest 3 places to visit in Japan.\"}\n"
   ]
  },
  {
   "cell_type": "code",
   "execution_count": null,
   "id": "0909fbc8-22d7-4c5b-a944-1209b65a41d0",
   "metadata": {},
   "outputs": [],
   "source": []
  },
  {
   "cell_type": "code",
   "execution_count": 14,
   "id": "245a9c5a-5798-4d5a-9ba8-e02ba3f74182",
   "metadata": {},
   "outputs": [],
   "source": [
    "system_prompt = \"You are an assistant that analyzes the contents of a website \\\n",
    "and provides a short summary, ignoring text that might be navigation related. \\\n",
    "Respond in markdown.\""
   ]
  },
  {
   "cell_type": "code",
   "execution_count": 23,
   "id": "dab81898-a4e3-46ce-a48b-5f59eac127da",
   "metadata": {},
   "outputs": [],
   "source": [
    "# A function that writes a User Prompt that asks for summaries of websites:\n",
    "\n",
    "def user_prompt_for(website):\n",
    "    user_prompt = f\"You are looking at a website titled {website.title}\"\n",
    "    user_prompt += \"\\nThe contents of this website is as follows; \\\n",
    "please provide a short summary in of this website in markdown. \\\n",
    "If it includes news or announcements, then summarize these too.\\n\\n\"\n",
    "    user_prompt += website.text\n",
    "    return user_prompt"
   ]
  },
  {
   "cell_type": "code",
   "execution_count": 30,
   "id": "b9550d3a-8385-4f7a-953f-d562dd1b5414",
   "metadata": {},
   "outputs": [],
   "source": [
    "# print(user_prompt_for(ed))\n"
   ]
  },
  {
   "cell_type": "code",
   "execution_count": 25,
   "id": "73d6d3dd-065d-41aa-b963-c8809b355877",
   "metadata": {},
   "outputs": [],
   "source": [
    "# See how this function creates exactly the format above\n",
    "def messages_for(website):\n",
    "    return [\n",
    "        {\"role\": \"system\", \"content\": system_prompt},\n",
    "        {\"role\": \"user\", \"content\": user_prompt_for(website)}\n",
    "    ]"
   ]
  },
  {
   "cell_type": "code",
   "execution_count": 26,
   "id": "4e19fcc2-a54a-4d74-8070-8f80f092942b",
   "metadata": {},
   "outputs": [
    {
     "data": {
      "text/plain": [
       "[{'role': 'system',\n",
       "  'content': 'You are an assistant that analyzes the contents of a website and provides a short summary, ignoring text that might be navigation related. Respond in markdown.'},\n",
       " {'role': 'user',\n",
       "  'content': \"You are looking at a website titled RCB VS PBKS, IPL 2025: Jio Hotstar crosses 57.8 crore views during final showdown, becomes most-viewed match of the season\\nThe contents of this website is as follows; please provide a short summary in 100  words of this website in markdown. If it includes news or announcements, then summarize these too.\\n\\nHome\\nLifestyle\\nAstrology\\nWhats Cooking\\nRelationships\\nStyle\\nArt and Culture\\nGardening\\nBeauty and Care\\nHealth & Wellness\\nHealthy Living\\nRecipes\\nInspire\\nTips & Tricks\\nBuzz\\nFashion\\nBeauty & Care\\nCelebrity Fashion\\nStyle\\nWorth\\nInvestment\\nMutual Funds\\nNews\\nEntertainment\\nBollywood\\nCelebscoop\\nHollywood\\nOriginals\\nBinge\\nExplore\\nTechnology\\nNews\\nApps\\nScience And Future\\nAuto\\nCurrent\\nElectric\\nAlternate\\nSpecials\\nYear Ender 2024\\nTreks Of India\\n101 Abu Dhabi Dos\\nCreate on India\\nOscars 2024\\nWanderlust\\nAyodhya Ram Mandir\\n#FitIT\\nIndia On Plate\\nSustainability\\nGive Up Plastic\\nThe Great Indian Brain Drain\\nCareers\\nEquals\\nTrending\\nRCB VS PBKS, IPL 2025: Jio Hotstar crosses 57.8 crore views during final showdown, becomes most-viewed match of the season\\nRCB VS PBKS, IPL 2025: Jio Hotstar crosses 57.8 crore views during final showdown, becomes most-viewed match of the season\\nJio Hotstar has witnessed its viewership skyrocket as people from all across the country tune in to root for their favourite teams to compete against one another in the IPL 2025. Moreover, this year, during the season kickoff, the streaming platform noted a 35 per cent year-on-year (YoY) rise.\\nSneha Kumari\\nUpdated:\\nJun 04, 2025, 07:36 IST\\n3  min read\\nThe eighteenth season of the Indian Premier League (IPL) has finally crowned its champion as Royal Challengers Bengaluru (RCB) lifted the trophy for the first time in 18 years. With this, the excitement was not only visible at the Narendra Modi Stadium in Ahmedabad, but it was also visible on the screens of our televisions, as the live streaming on the Jio Hotstar OTT platform saw over 57.8 crore (578 million) people stream the RCB vs. Punjab Kings (PBKS) match on Tuesday.\\nJio Hotstar has witnessed its viewership skyrocket as people from all across the country tune in to root for their favourite teams to compete against one another in the IPL 2025. Moreover, this year, during the season kickoff, the streaming platform noted a 35 per cent year-on-year (YoY) rise.\\nWhile at the beginning of the season, the streaming platforms noticed a rise in viewership as it bagged 137 crore views on its first weekend.\\nThis wasn’t luck. This was loyalty paying rent after 18 years. 🤌\\npic.twitter.com/kOfZ7aX7RF\\n— Royal Challengers Bengaluru (@RCBTweets)\\nJune 3, 2025\\nA look at the rise in viewership of IPL matches in 2025\\nIPL is valued at $12 billion, and its popularity in India is well-known. The first eight matches drew 288 million viewers, but by the 26th match, that figure had risen to 450 million, and all the credit goes to the new captains, different team combinations, changing regulations, and rivalries.\\nCredit: X | @rcb\\nOn June 3, after winning the toss, Punjab Kings chose to bowl first against RCB for the first innings in the IPL finals. According to the live cricket score data, RCB has scored 14 runs from 1.1 overs with the loss of zero wickets in the first innings of the IPL finals.\\nDuring the first over, more than 9.2 crore (92 million) people streamed the match on Jio Hotstar.\\nMost Viewed Matches on JioHotstar in IPL 2025\\nIn the leading chart, RCB matches drew massive audiences, with their highest-viewed game clocking an astounding number of 57.8 crore views on June 3, RCB vs PBKS finals.\\nCredit: Reddit | @sachinkr4325\\nThis is followed by the clash between Kolkata Knight Riders (KKR) and RCB, which garnered 41.4 crore views. Followed by an intense rivalry between Chennai Super Kings (CSK) and RCB that also captivated fans, with their matches drawing 37.3 crore and 34 crore views, respectively.\\nDid IPL 2025 break the advertising records with Jio Hotstar?\\nWith franchise values reaching all-time highs, the tournament has grown into a billion-dollar spectacle. The eight original teams now command valuations of up to $2 billion, with top franchises like Mumbai Indians (MI), Chennai Super Kings (CSK), and Royal Challengers Bengaluru (RCB) leading the series.\\nOn the other hand, Jio Hotstar aimed to generate RS 4,500 crore in ad revenue through 32 significant sponsorship deals and a drive for 100 million paid streaming customers. IPL 2025 is predicted to shatter previous advertising records.\\nTo stay updated on the stories that are going viral, follow Indiatimes\\nTrending\\n.\\nFirst Published:\\nJun 04, 2025, 07:28 IST\\nSneha Kumari\\nSneha is a dedicated writer with a passion for storytelling that enthrals and inspires the readers. With a background in Health and Wellness, she brings a unique perspective to every narrative. As a journalist, she aims to find solutions with authenticity and credibility.\\nRead More\\nIndiatimes®\\nPowered by\\nGet the NEWS that fits your groove.\\nAbout Us\\n•\\nWork with Us\\n•\\nContact Us\\n•\\nTerms & Conditions\\n•\\nPrivacy Policy\\n•\\nSitemap\\nQuick Links\\nLifestyle\\n•\\nHealth & Wellness\\n•\\nFashion\\n•\\nWorth\\n•\\nEntertainment\\n•\\nTechnology\\n•\\nAuto\\n•\\nEvents\\n•\\nGambling\\n•\\nSPECIALS\\nYear Ender 2024\\n•\\nTreks Of India\\n•\\n101 Abu Dhabi Dos\\n•\\nCreate on India\\n•\\nOscars 2024\\n•\\nWanderlust\\n•\\nAyodhya Ram Mandir\\n•\\n#FitIT\\n•\\nIndia On Plate\\n•\\nSustainability\\n•\\nGive Up Plastic\\n•\\nThe Great Indian Brain Drain\\n•\\nCareers\\n•\\nEquals\\n•\\nTimes of India\\n•\\nEconomic Times\\n•\\nNavbharat Times\\n•\\nMaharashtra Times\\n•\\nCricbuzz\\n•\\nIndiatimes Bangla\\n•\\nVijay Karnataka\\n•\\nTelugu Samayam\\n•\\nTamil Samayam\\n•\\nMalayalam Samayam\\nSubscribe to Indiatimes Newsletter and get handpicked updates based on your interests!\\nConnect With Us On\\nLatest\\nNews\\nKarate Kid Legends BO report day 5: Film earns Rs 51 lakh\\nSelena Gomez trolled for vaping before Taylor Swift meetup\\nAllu Arjun’s son emotional, pours water after RCB’s IPL win\\nWind Breaker chapter 182 release date and time\\nGanga Dussehra 2025: Date, subh muhurat, puja vidhi, celebration & significance\\nHow to change your Aadhaar card address online?\\nVijay Mallya's net worth: Inside his lavish lifestyle, assets, early life\\nThe Fairly OddParents Season 2 OTT Date - When and where to watch\\nRCB wins: Social media flooded with hilarious memes; see here\\nBest OTT releases this week: Streaming guide\\niPhone 17, iPhone 17 Air display leaks ahead of its launch in India\\nGuava Shuishui, known for eating makeup, dies at 24\\nRCB stars' bold IPL 2025 title manifestation finally\\xa0comes\\xa0true\\nUnderdogs OTT Release Date: When and where to watch series\\nOne Punch Man season 3 release window\\nAkhil Akkineni to marry Zainab Ravdjee on June 6: Nagarjuna invites Telangana CM\\nVirat Kohli and RCB create history after 18 years: A legendary IPL title win\\nPhil Salt becomes dad, wins IPL for RCB in just 48 hours\\nCopyright ©\\n2025\\nTimes Internet Limited\\n. All rights reserved\\nAccept the updated Privacy & Cookie Policy\\nThe indiatimes.com\\nprivacy policy\\nhas been updated to align with the new data regulations in European Union. Please review and accept these changes below to continue using the website. We use cookies to ensure the best experience for you on our website.\\nI agree to see customized ads that are tailor-made to my preferences\\nAgree & continue\\n4/6/2025 13:13:18\"}]"
      ]
     },
     "execution_count": 26,
     "metadata": {},
     "output_type": "execute_result"
    }
   ],
   "source": [
    "messages_for(ed)"
   ]
  },
  {
   "cell_type": "code",
   "execution_count": 27,
   "id": "9ca19a98-7237-481a-831c-c2f496e19221",
   "metadata": {},
   "outputs": [],
   "source": [
    "# lets utilized all above functions finally and summarize the url content\n",
    "\n",
    "def summarize(url):\n",
    "    website = Website(url) #website class we already defined on top\n",
    "    response = openai.chat.completions.create( #i am using chat comletion model of openai here\n",
    "        model = \"gpt-4o-mini\",\n",
    "        messages = messages_for(website) #message_for func above\n",
    "    )\n",
    "    return response.choices[0].message.content"
   ]
  },
  {
   "cell_type": "code",
   "execution_count": 29,
   "id": "8fa394f5-229e-4a32-87aa-a572fcd1e1b3",
   "metadata": {},
   "outputs": [
    {
     "data": {
      "text/plain": [
       "\"## Summary\\n\\nThe website reports on the monumental viewership achieved by Jio Hotstar during the IPL 2025 finals where Royal Challengers Bengaluru (RCB) defeated Punjab Kings (PBKS), marking RCB's first win in 18 years. Over 57.8 crore views were recorded for this match, making it the most-watched of the season. The IPL 2025 overall saw a 35% year-on-year viewership increase, with teams attracting millions of viewers. Jio Hotstar aims to generate substantial ad revenue, suggesting the tournament is on track to break previous advertising records amidst a surge in franchise valuations.\""
      ]
     },
     "execution_count": 29,
     "metadata": {},
     "output_type": "execute_result"
    }
   ],
   "source": [
    "summarize(\"https://www.indiatimes.com/trending/rcb-vs-pbks-ipl-2025-jio-hotstar-crosses-578-crore-views-during-final-showdown-becomes-most-viewed-match-of-the-season-660265.html\")"
   ]
  },
  {
   "cell_type": "code",
   "execution_count": 31,
   "id": "4e280a27-70df-4849-a51d-81e2fd46d32a",
   "metadata": {},
   "outputs": [],
   "source": [
    "# to make look more better\n",
    "def display_summary(url):\n",
    "    summary = summarize(url)\n",
    "    display(Markdown(summary))"
   ]
  },
  {
   "cell_type": "code",
   "execution_count": 32,
   "id": "67d048b5-f209-4ebc-85dd-e214eb14860f",
   "metadata": {},
   "outputs": [
    {
     "data": {
      "text/markdown": [
       "# Summary of RCB VS PBKS, IPL 2025\n",
       "\n",
       "The final match of IPL 2025, where Royal Challengers Bengaluru (RCB) triumphed over Punjab Kings (PBKS), has become the most-viewed game of the season, achieving over 57.8 crore views on Jio Hotstar. This marks RCB's first championship win in 18 years, showcasing increased viewership driven by fierce rivalries and engaging team dynamics. Jio Hotstar also reported a 35% year-on-year increase in viewership, and the tournament’s overall popularity is reflected in the projected ad revenues of approximately ₹4,500 crore. IPL's franchise values have reached all-time highs, further emphasizing its significance in the sports landscape."
      ],
      "text/plain": [
       "<IPython.core.display.Markdown object>"
      ]
     },
     "metadata": {},
     "output_type": "display_data"
    }
   ],
   "source": [
    "display_summary(\"https://www.indiatimes.com/trending/rcb-vs-pbks-ipl-2025-jio-hotstar-crosses-578-crore-views-during-final-showdown-becomes-most-viewed-match-of-the-season-660265.html\")"
   ]
  },
  {
   "cell_type": "code",
   "execution_count": null,
   "id": "e8c1c411-9844-4984-87cb-c93ac3c36d74",
   "metadata": {},
   "outputs": [],
   "source": []
  }
 ],
 "metadata": {
  "kernelspec": {
   "display_name": "Python 3 (ipykernel)",
   "language": "python",
   "name": "python3"
  },
  "language_info": {
   "codemirror_mode": {
    "name": "ipython",
    "version": 3
   },
   "file_extension": ".py",
   "mimetype": "text/x-python",
   "name": "python",
   "nbconvert_exporter": "python",
   "pygments_lexer": "ipython3",
   "version": "3.12.8"
  }
 },
 "nbformat": 4,
 "nbformat_minor": 5
}

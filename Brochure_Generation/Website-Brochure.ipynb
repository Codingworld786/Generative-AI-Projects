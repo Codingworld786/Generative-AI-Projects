{
 "cells": [
  {
   "cell_type": "code",
   "execution_count": 30,
   "id": "e6f88f34-bb03-41b7-86b4-bc63946079fe",
   "metadata": {},
   "outputs": [
    {
     "name": "stdout",
     "output_type": "stream",
     "text": [
      "let's create company's brochure\n"
     ]
    }
   ],
   "source": [
    "print(\"let's create company's brochure\")"
   ]
  },
  {
   "cell_type": "code",
   "execution_count": 3,
   "id": "e23064b6-6b79-40da-9e02-7f4111eb292b",
   "metadata": {},
   "outputs": [],
   "source": [
    "import os\n",
    "import requests\n",
    "import json\n",
    "from typing import List\n",
    "from dotenv import load_dotenv\n",
    "from bs4 import BeautifulSoup\n",
    "from IPython.display import Markdown, display, update_display\n",
    "from openai import OpenAI"
   ]
  },
  {
   "cell_type": "code",
   "execution_count": 5,
   "id": "f95be38c-898b-4935-9700-10111caf9c40",
   "metadata": {},
   "outputs": [
    {
     "name": "stdout",
     "output_type": "stream",
     "text": [
      "API key looks good so far\n"
     ]
    }
   ],
   "source": [
    "# Initialize and constants\n",
    "\n",
    "load_dotenv(override=True)\n",
    "api_key = os.getenv('OPENAI_API_KEY')\n",
    "# print(api_key)\n",
    "\n",
    "if api_key and api_key.startswith('sk-proj-') and len(api_key)>10:\n",
    "    print(\"API key looks good so far\")\n",
    "else:\n",
    "    print(\"There might be a problem with your API key? Please visit the troubleshooting notebook!\")\n",
    "    \n",
    "MODEL = 'gpt-4o-mini'\n",
    "openai = OpenAI()"
   ]
  },
  {
   "cell_type": "code",
   "execution_count": 6,
   "id": "1077f691-70d9-4b1b-af24-9d5e5f859823",
   "metadata": {},
   "outputs": [],
   "source": [
    "# A class to represent a Webpage\n",
    "\n",
    "# Some websites need you to use proper headers when fetching them:\n",
    "headers = {\n",
    " \"User-Agent\": \"Mozilla/5.0 (Windows NT 10.0; Win64; x64) AppleWebKit/537.36 (KHTML, like Gecko) Chrome/117.0.0.0 Safari/537.36\"\n",
    "}\n",
    "\n",
    "class Website:\n",
    "    \"\"\"\n",
    "    A utility class to represent a Website that we have scraped, now with links\n",
    "    \"\"\"\n",
    "\n",
    "    def __init__(self, url):\n",
    "        self.url = url\n",
    "        response = requests.get(url, headers=headers)\n",
    "        self.body = response.content\n",
    "        soup = BeautifulSoup(self.body, 'html.parser')\n",
    "        self.title = soup.title.string if soup.title else \"No title found\"\n",
    "        if soup.body:\n",
    "            for irrelevant in soup.body([\"script\", \"style\", \"img\", \"input\"]):\n",
    "                irrelevant.decompose()\n",
    "            self.text = soup.body.get_text(separator=\"\\n\", strip=True)\n",
    "        else:\n",
    "            self.text = \"\"\n",
    "        links = [link.get('href') for link in soup.find_all('a')]\n",
    "        self.links = [link for link in links if link]\n",
    "\n",
    "    def get_contents(self):\n",
    "        return f\"Webpage Title:\\n{self.title}\\nWebpage Contents:\\n{self.text}\\n\\n\""
   ]
  },
  {
   "cell_type": "code",
   "execution_count": 8,
   "id": "1c22ab6f-2cc7-4c8f-bf29-d43bc70d7346",
   "metadata": {},
   "outputs": [
    {
     "data": {
      "text/plain": [
       "['https://bit.ly/43WQcwy',\n",
       " '/',\n",
       " '/courses/',\n",
       " '/the-batch/',\n",
       " '/the-batch/',\n",
       " '/the-batch/tag/letters/',\n",
       " '/the-batch/tag/data-points/',\n",
       " '/the-batch/tag/research/',\n",
       " '/blog/',\n",
       " '/community/',\n",
       " 'https://community.deeplearning.ai/',\n",
       " '/events/',\n",
       " '/ambassador/',\n",
       " '/blog/category/ambassador-spotlight/',\n",
       " '/resources/',\n",
       " '/about/',\n",
       " '/about/',\n",
       " '/careers/',\n",
       " '/contact/',\n",
       " 'https://bit.ly/3RB9T8a',\n",
       " '/courses/',\n",
       " '/courses/machine-learning-specialization/',\n",
       " '/courses/machine-learning-specialization/#overview',\n",
       " '/courses/machine-learning-specialization/#instructors',\n",
       " '/courses/machine-learning-specialization/#syllabus',\n",
       " '/courses/machine-learning-specialization/#course-slides',\n",
       " '/courses/machine-learning-specialization/#faqs',\n",
       " 'https://www.coursera.org/specializations/machine-learning-introduction?utm_source=deeplearning-ai&utm_medium=institutions&utm_campaign=WebsiteCourses-MLS',\n",
       " 'https://bit.ly/3aTxAFT',\n",
       " 'https://www.deeplearning.ai/program/deep-learning-specialization/',\n",
       " 'https://bit.ly/3Od0grQ',\n",
       " 'https://www.linkedin.com/in/andrewyng/',\n",
       " 'https://twitter.com/AndrewYNg',\n",
       " 'https://www.andrewng.org',\n",
       " 'https://www.linkedin.com/in/eddy-shyu/',\n",
       " 'https://www.linkedin.com/in/aartibagul/',\n",
       " 'https://twitter.com/aarti_bagul',\n",
       " 'https://scholar.google.com/citations?user=bo_FK9UAAAAJ&hl=en',\n",
       " 'https://www.linkedin.com/in/geoff-ladwig-2650241/',\n",
       " 'https://online.stanford.edu/',\n",
       " '/courses/',\n",
       " '/the-batch/',\n",
       " '/community/',\n",
       " '/careers/',\n",
       " '/about/',\n",
       " 'https://www.facebook.com/1027125564106325',\n",
       " 'https://www.instagram.com/deeplearningai',\n",
       " 'https://twitter.com/deeplearningai',\n",
       " 'https://www.linkedin.com/company/18246783',\n",
       " 'https://www.youtube.com/c/Deeplearningai']"
      ]
     },
     "execution_count": 8,
     "metadata": {},
     "output_type": "execute_result"
    }
   ],
   "source": [
    "res = Website(\"https://www.deeplearning.ai/courses/machine-learning-specialization/\")\n",
    "res.links"
   ]
  },
  {
   "cell_type": "code",
   "execution_count": 9,
   "id": "8b7bb6e5-a34c-4648-9092-ba6bd451dfdd",
   "metadata": {},
   "outputs": [],
   "source": [
    "# get only relevant links\n",
    "\n",
    "link_system_prompt = \"You are provided with a list of links found on a webpage. \\\n",
    "You are able to decide which of the links would be most relevant to include in a brochure about the company, \\\n",
    "such as links to an About page, or a Company page, or Careers/Jobs pages.\\n\"\n",
    "link_system_prompt += \"You should respond in JSON as in this example:\"\n",
    "link_system_prompt += \"\"\"\n",
    "{\n",
    "    \"links\": [\n",
    "        {\"type\": \"about page\", \"url\": \"https://full.url/goes/here/about\"},\n",
    "        {\"type\": \"careers page\": \"url\": \"https://another.full.url/careers\"}\n",
    "    ]\n",
    "}\n",
    "\"\"\""
   ]
  },
  {
   "cell_type": "code",
   "execution_count": 10,
   "id": "4e6ad02a-9027-4258-9bcc-222c76990339",
   "metadata": {},
   "outputs": [
    {
     "name": "stdout",
     "output_type": "stream",
     "text": [
      "You are provided with a list of links found on a webpage. You are able to decide which of the links would be most relevant to include in a brochure about the company, such as links to an About page, or a Company page, or Careers/Jobs pages.\n",
      "You should respond in JSON as in this example:\n",
      "{\n",
      "    \"links\": [\n",
      "        {\"type\": \"about page\", \"url\": \"https://full.url/goes/here/about\"},\n",
      "        {\"type\": \"careers page\": \"url\": \"https://another.full.url/careers\"}\n",
      "    ]\n",
      "}\n",
      "\n"
     ]
    }
   ],
   "source": [
    "print(link_system_prompt)\n"
   ]
  },
  {
   "cell_type": "code",
   "execution_count": 11,
   "id": "d021accd-c166-4e8b-a031-f8d268375e15",
   "metadata": {},
   "outputs": [],
   "source": [
    "def get_links_user_prompt(website):\n",
    "    user_prompt = f\"Here is the list of links on the website of {website.url} - \"\n",
    "    user_prompt += \"please decide which of these are relevant web links for a brochure about the company, respond with the full https URL in JSON format. \\\n",
    "Do not include Terms of Service, Privacy, email links.\\n\"\n",
    "    user_prompt += \"Links (some might be relative links):\\n\"\n",
    "    user_prompt += \"\\n\".join(website.links)\n",
    "    return user_prompt"
   ]
  },
  {
   "cell_type": "code",
   "execution_count": 12,
   "id": "7416c8be-89ee-413a-b2e4-5360a0f34e8d",
   "metadata": {},
   "outputs": [
    {
     "name": "stdout",
     "output_type": "stream",
     "text": [
      "Here is the list of links on the website of https://www.deeplearning.ai/courses/machine-learning-specialization/ - please decide which of these are relevant web links for a brochure about the company, respond with the full https URL in JSON format. Do not include Terms of Service, Privacy, email links.\n",
      "Links (some might be relative links):\n",
      "https://bit.ly/43WQcwy\n",
      "/\n",
      "/courses/\n",
      "/the-batch/\n",
      "/the-batch/\n",
      "/the-batch/tag/letters/\n",
      "/the-batch/tag/data-points/\n",
      "/the-batch/tag/research/\n",
      "/blog/\n",
      "/community/\n",
      "https://community.deeplearning.ai/\n",
      "/events/\n",
      "/ambassador/\n",
      "/blog/category/ambassador-spotlight/\n",
      "/resources/\n",
      "/about/\n",
      "/about/\n",
      "/careers/\n",
      "/contact/\n",
      "https://bit.ly/3RB9T8a\n",
      "/courses/\n",
      "/courses/machine-learning-specialization/\n",
      "/courses/machine-learning-specialization/#overview\n",
      "/courses/machine-learning-specialization/#instructors\n",
      "/courses/machine-learning-specialization/#syllabus\n",
      "/courses/machine-learning-specialization/#course-slides\n",
      "/courses/machine-learning-specialization/#faqs\n",
      "https://www.coursera.org/specializations/machine-learning-introduction?utm_source=deeplearning-ai&utm_medium=institutions&utm_campaign=WebsiteCourses-MLS\n",
      "https://bit.ly/3aTxAFT\n",
      "https://www.deeplearning.ai/program/deep-learning-specialization/\n",
      "https://bit.ly/3Od0grQ\n",
      "https://www.linkedin.com/in/andrewyng/\n",
      "https://twitter.com/AndrewYNg\n",
      "https://www.andrewng.org\n",
      "https://www.linkedin.com/in/eddy-shyu/\n",
      "https://www.linkedin.com/in/aartibagul/\n",
      "https://twitter.com/aarti_bagul\n",
      "https://scholar.google.com/citations?user=bo_FK9UAAAAJ&hl=en\n",
      "https://www.linkedin.com/in/geoff-ladwig-2650241/\n",
      "https://online.stanford.edu/\n",
      "/courses/\n",
      "/the-batch/\n",
      "/community/\n",
      "/careers/\n",
      "/about/\n",
      "https://www.facebook.com/1027125564106325\n",
      "https://www.instagram.com/deeplearningai\n",
      "https://twitter.com/deeplearningai\n",
      "https://www.linkedin.com/company/18246783\n",
      "https://www.youtube.com/c/Deeplearningai\n"
     ]
    }
   ],
   "source": [
    "print(get_links_user_prompt(res))\n"
   ]
  },
  {
   "cell_type": "code",
   "execution_count": 13,
   "id": "f0512e61-6491-451a-aa89-198ccdb62a78",
   "metadata": {},
   "outputs": [],
   "source": [
    "def get_links(url):\n",
    "    website = Website(url)\n",
    "    response = openai.chat.completions.create(\n",
    "        model=MODEL,\n",
    "        messages=[\n",
    "            {\"role\": \"system\", \"content\": link_system_prompt},\n",
    "            {\"role\": \"user\", \"content\": get_links_user_prompt(website)}\n",
    "      ],\n",
    "        response_format={\"type\": \"json_object\"}\n",
    "    )\n",
    "    result = response.choices[0].message.content\n",
    "    return json.loads(result)"
   ]
  },
  {
   "cell_type": "code",
   "execution_count": 14,
   "id": "d4b93d32-4f76-44aa-8202-bd7a8d68e77c",
   "metadata": {},
   "outputs": [
    {
     "data": {
      "text/plain": [
       "['/',\n",
       " '/models',\n",
       " '/datasets',\n",
       " '/spaces',\n",
       " '/docs',\n",
       " '/enterprise',\n",
       " '/pricing',\n",
       " '/login',\n",
       " '/join',\n",
       " '/spaces',\n",
       " '/models',\n",
       " '/mistralai/Magistral-Small-2506',\n",
       " '/nanonets/Nanonets-OCR-s',\n",
       " '/echo840/MonkeyOCR',\n",
       " '/tencent/Hunyuan3D-2.1',\n",
       " '/openbmb/MiniCPM4-8B',\n",
       " '/models',\n",
       " '/spaces/enzostvs/deepsite',\n",
       " '/spaces/ResembleAI/Chatterbox',\n",
       " '/spaces/aisheets/sheets',\n",
       " '/spaces/multimodalart/wan2-1-fast',\n",
       " '/spaces/Agents-MCP-Hackathon/AI-Marketing-Content-Creator',\n",
       " '/spaces',\n",
       " '/datasets/nvidia/Nemotron-Personas',\n",
       " '/datasets/fka/awesome-chatgpt-prompts',\n",
       " '/datasets/open-thoughts/OpenThoughts3-1.2M',\n",
       " '/datasets/institutional/institutional-books-1.0',\n",
       " '/datasets/a-m-team/AM-DeepSeek-R1-0528-Distilled',\n",
       " '/datasets',\n",
       " '/join',\n",
       " '/pricing#endpoints',\n",
       " '/pricing#spaces',\n",
       " '/pricing',\n",
       " '/enterprise',\n",
       " '/enterprise',\n",
       " '/enterprise',\n",
       " '/enterprise',\n",
       " '/enterprise',\n",
       " '/enterprise',\n",
       " '/enterprise',\n",
       " '/allenai',\n",
       " '/facebook',\n",
       " '/amazon',\n",
       " '/google',\n",
       " '/Intel',\n",
       " '/microsoft',\n",
       " '/grammarly',\n",
       " '/Writer',\n",
       " '/docs/transformers',\n",
       " '/docs/diffusers',\n",
       " '/docs/safetensors',\n",
       " '/docs/huggingface_hub',\n",
       " '/docs/tokenizers',\n",
       " '/docs/trl',\n",
       " '/docs/transformers.js',\n",
       " '/docs/smolagents',\n",
       " '/docs/peft',\n",
       " '/docs/datasets',\n",
       " '/docs/text-generation-inference',\n",
       " '/docs/accelerate',\n",
       " '/models',\n",
       " '/datasets',\n",
       " '/spaces',\n",
       " '/changelog',\n",
       " 'https://endpoints.huggingface.co',\n",
       " '/chat',\n",
       " '/huggingface',\n",
       " '/brand',\n",
       " '/terms-of-service',\n",
       " '/privacy',\n",
       " 'https://apply.workable.com/huggingface/',\n",
       " 'mailto:press@huggingface.co',\n",
       " '/learn',\n",
       " '/docs',\n",
       " '/blog',\n",
       " 'https://discuss.huggingface.co',\n",
       " 'https://status.huggingface.co/',\n",
       " 'https://github.com/huggingface',\n",
       " 'https://twitter.com/huggingface',\n",
       " 'https://www.linkedin.com/company/huggingface/',\n",
       " '/join/discord']"
      ]
     },
     "execution_count": 14,
     "metadata": {},
     "output_type": "execute_result"
    }
   ],
   "source": [
    "huggingface = Website(\"https://huggingface.co\")\n",
    "huggingface.links"
   ]
  },
  {
   "cell_type": "code",
   "execution_count": 15,
   "id": "0e745f5b-83ce-4a8e-908a-d586d123e995",
   "metadata": {},
   "outputs": [
    {
     "data": {
      "text/plain": [
       "{'links': [{'type': 'about page', 'url': 'https://huggingface.co'},\n",
       "  {'type': 'careers page', 'url': 'https://apply.workable.com/huggingface/'},\n",
       "  {'type': 'enterprise page', 'url': 'https://huggingface.co/enterprise'},\n",
       "  {'type': 'pricing page', 'url': 'https://huggingface.co/pricing'},\n",
       "  {'type': 'blog page', 'url': 'https://huggingface.co/blog'},\n",
       "  {'type': 'community page', 'url': 'https://discuss.huggingface.co'},\n",
       "  {'type': 'GitHub page', 'url': 'https://github.com/huggingface'},\n",
       "  {'type': 'Twitter page', 'url': 'https://twitter.com/huggingface'},\n",
       "  {'type': 'LinkedIn page',\n",
       "   'url': 'https://www.linkedin.com/company/huggingface/'}]}"
      ]
     },
     "execution_count": 15,
     "metadata": {},
     "output_type": "execute_result"
    }
   ],
   "source": [
    "get_links(\"https://huggingface.co\")"
   ]
  },
  {
   "cell_type": "code",
   "execution_count": 16,
   "id": "759f1d5a-52c1-415a-b0bb-755ef2fe7202",
   "metadata": {},
   "outputs": [
    {
     "data": {
      "text/plain": [
       "{'links': [{'type': 'about page', 'url': 'https://www.deeplearning.ai/about/'},\n",
       "  {'type': 'careers page', 'url': 'https://www.deeplearning.ai/careers/'}]}"
      ]
     },
     "execution_count": 16,
     "metadata": {},
     "output_type": "execute_result"
    }
   ],
   "source": [
    "get_links(\"https://www.deeplearning.ai/courses/machine-learning-specialization/\")"
   ]
  },
  {
   "cell_type": "code",
   "execution_count": 17,
   "id": "4163ef21-b4fd-48b9-bbdb-5c8e601b45f0",
   "metadata": {},
   "outputs": [],
   "source": [
    "def get_all_details(url):\n",
    "    result = \"Landing page:\\n\"\n",
    "    result += Website(url).get_contents()\n",
    "    links = get_links(url)\n",
    "    print(\"Found links:\", links)\n",
    "    for link in links[\"links\"]:\n",
    "        result += f\"\\n\\n{link['type']}\\n\"\n",
    "        result += Website(link[\"url\"]).get_contents()\n",
    "    return result"
   ]
  },
  {
   "cell_type": "code",
   "execution_count": 19,
   "id": "31b66fe7-c858-480c-9a79-70b830e693c6",
   "metadata": {},
   "outputs": [],
   "source": [
    "# print(get_all_details(\"https://huggingface.co\"))\n"
   ]
  },
  {
   "cell_type": "code",
   "execution_count": 20,
   "id": "a3c6831d-090e-432f-8983-6680c53f2a86",
   "metadata": {},
   "outputs": [],
   "source": [
    "system_prompt = \"You are an assistant that analyzes the contents of several relevant pages from a company website \\\n",
    "and creates a short brochure about the company for prospective customers, investors and recruits. Respond in markdown.\\\n",
    "Include details of company culture, customers and careers/jobs if you have the information.\"\n",
    "\n",
    "# Or uncomment the lines below for a more humorous brochure - this demonstrates how easy it is to incorporate 'tone':\n",
    "\n",
    "# system_prompt = \"You are an assistant that analyzes the contents of several relevant pages from a company website \\\n",
    "# and creates a short humorous, entertaining, jokey brochure about the company for prospective customers, investors and recruits. Respond in markdown.\\\n",
    "# Include details of company culture, customers and careers/jobs if you have the information.\""
   ]
  },
  {
   "cell_type": "code",
   "execution_count": 21,
   "id": "5809a616-028e-4ac7-8e13-9f282e869f46",
   "metadata": {},
   "outputs": [],
   "source": [
    "def get_brochure_user_prompt(company_name, url):\n",
    "    user_prompt = f\"You are looking at a company called: {company_name}\\n\"\n",
    "    user_prompt += f\"Here are the contents of its landing page and other relevant pages; use this information to build a short brochure of the company in markdown.\\n\"\n",
    "    user_prompt += get_all_details(url)\n",
    "    user_prompt = user_prompt[:5_000] # Truncate if more than 5,000 characters\n",
    "    return user_prompt"
   ]
  },
  {
   "cell_type": "code",
   "execution_count": 22,
   "id": "e0e48b99-67a2-483c-8879-1181365961aa",
   "metadata": {},
   "outputs": [
    {
     "name": "stdout",
     "output_type": "stream",
     "text": [
      "Found links: {'links': [{'type': 'about page', 'url': 'https://huggingface.co/huggingface'}, {'type': 'careers page', 'url': 'https://apply.workable.com/huggingface/'}, {'type': 'enterprise page', 'url': 'https://huggingface.co/enterprise'}, {'type': 'pricing page', 'url': 'https://huggingface.co/pricing'}, {'type': 'blog page', 'url': 'https://huggingface.co/blog'}, {'type': 'discussion forum', 'url': 'https://discuss.huggingface.co'}, {'type': 'GitHub page', 'url': 'https://github.com/huggingface'}, {'type': 'Twitter page', 'url': 'https://twitter.com/huggingface'}, {'type': 'LinkedIn page', 'url': 'https://www.linkedin.com/company/huggingface/'}]}\n"
     ]
    },
    {
     "data": {
      "text/plain": [
       "'You are looking at a company called: HuggingFace\\nHere are the contents of its landing page and other relevant pages; use this information to build a short brochure of the company in markdown.\\nLanding page:\\nWebpage Title:\\nHugging Face – The AI community building the future.\\nWebpage Contents:\\nHugging Face\\nModels\\nDatasets\\nSpaces\\nCommunity\\nDocs\\nEnterprise\\nPricing\\nLog In\\nSign Up\\nThe AI community building the future.\\nThe platform where the machine learning community collaborates on models, datasets, and applications.\\nExplore AI Apps\\nor\\nBrowse 1M+ models\\nTrending on\\nthis week\\nModels\\nmistralai/Magistral-Small-2506\\nUpdated\\n4 days ago\\n•\\n11.6k\\n•\\n408\\nnanonets/Nanonets-OCR-s\\nUpdated\\nabout 16 hours ago\\n•\\n4.25k\\n•\\n242\\necho840/MonkeyOCR\\nUpdated\\n3 days ago\\n•\\n4\\n•\\n217\\ntencent/Hunyuan3D-2.1\\nUpdated\\nabout 6 hours ago\\n•\\n168\\nopenbmb/MiniCPM4-8B\\nUpdated\\n2 days ago\\n•\\n5.81k\\n•\\n240\\nBrowse 1M+ models\\nSpaces\\nRunning\\n8.06k\\n8.06k\\nDeepSite\\n🐳\\nGenerate any application with DeepSeek\\nRunning\\non\\nZero\\n1.08k\\n1.08k\\nChatterbox TTS\\n🍿\\nExpressive Zeroshot TTS\\nRunning\\n190\\n190\\nSheets\\n🗂\\nConvert ideas into structured datasets\\nRunning\\non\\nZero\\n701\\n701\\nWan2.1 Fast\\n🎥\\nGenerate a video animation from an image\\nRunning\\n142\\n142\\nAI Marketing Content Generator\\n🎨\\nAn AI-powered tool made for content creators and marketers\\nBrowse 400k+ applications\\nDatasets\\nnvidia/Nemotron-Personas\\nUpdated\\n6 days ago\\n•\\n7.49k\\n•\\n97\\nfka/awesome-chatgpt-prompts\\nUpdated\\nJan 6\\n•\\n22.3k\\n•\\n7.93k\\nopen-thoughts/OpenThoughts3-1.2M\\nUpdated\\n6 days ago\\n•\\n14.7k\\n•\\n101\\ninstitutional/institutional-books-1.0\\nUpdated\\n4 days ago\\n•\\n2.19k\\n•\\n49\\na-m-team/AM-DeepSeek-R1-0528-Distilled\\nUpdated\\n6 days ago\\n•\\n7.07k\\n•\\n64\\nBrowse 250k+ datasets\\nThe Home of Machine Learning\\nCreate, discover and collaborate on ML better.\\nThe collaboration platform\\nHost and collaborate on unlimited public models, datasets and applications.\\nMove faster\\nWith the HF Open source stack.\\nExplore all modalities\\nText, image, video, audio or even 3D.\\nBuild your portfolio\\nShare your work with the world and build your ML profile.\\nSign Up\\nAccelerate your ML\\nWe provide paid Compute and Enterprise solutions.\\nCompute\\nDeploy on optimized\\nInference Endpoints\\nor update your\\nSpaces applications\\nto a GPU in a few clicks.\\nView pricing\\nStarting at $0.60/hour for GPU\\nEnterprise\\nGive your team the most advanced platform to build AI with enterprise-grade security, access controls and\\n\\t\\t\\tdedicated support.\\nGetting started\\nStarting at $20/user/month\\nSingle Sign-On\\nRegions\\nPriority Support\\nAudit Logs\\nResource Groups\\nPrivate Datasets Viewer\\nMore than 50,000 organizations are using Hugging Face\\nAi2\\nEnterprise\\nnon-profit\\n•\\n765 models\\n•\\n3.43k followers\\nAI at Meta\\nEnterprise\\ncompany\\n•\\n2.17k models\\n•\\n6.43k followers\\nAmazon\\ncompany\\n•\\n20 models\\n•\\n3.23k followers\\nGoogle\\ncompany\\n•\\n1k models\\n•\\n16.6k followers\\nIntel\\ncompany\\n•\\n232 models\\n•\\n2.63k followers\\nMicrosoft\\ncompany\\n•\\n390 models\\n•\\n12.9k followers\\nGrammarly\\nEnterprise\\ncompany\\n•\\n10 models\\n•\\n162 followers\\nWriter\\nEnterprise\\ncompany\\n•\\n21 models\\n•\\n296 followers\\nOur Open Source\\nWe are building the foundation of ML tooling with the community.\\nTransformers\\n145,613\\nState-of-the-art ML for PyTorch, TensorFlow, JAX\\nDiffusers\\n29,354\\nState-of-the-art Diffusion models in PyTorch\\nSafetensors\\n3,307\\nSafe way to store/distribute neural network weights\\nHub Python Library\\n2,684\\nPython client to interact with the Hugging Face Hub\\nTokenizers\\n9,796\\nFast tokenizers optimized for research & production\\nTRL\\n14,176\\nTrain transformers LMs with reinforcement learning\\nTransformers.js\\n13,803\\nState-of-the-art ML running directly in your browser\\nsmolagents\\n20,149\\nSmol library to build great agents in Python\\nPEFT\\n18,774\\nParameter-efficient finetuning for large language models\\nDatasets\\n20,271\\nAccess & share datasets for any ML tasks\\nText Generation Inference\\n10,221\\nServe language models with TGI optimized toolkit\\nAccelerate\\n8,833\\nTrain PyTorch models with multi-GPU, TPU, mixed precision\\nSystem theme\\nWebsite\\nModels\\nDatasets\\nSpaces\\nChangelog\\nInference Endpoints\\nHuggingChat\\nCompany\\nAbout\\nBrand assets\\nTerms of service\\nPrivacy\\nJobs\\nPress\\nResources\\nLearn\\nDocumentation\\nBlog\\nForum\\nService Status\\nSocial\\nGitHub\\nTwitter\\nLinkedIn\\nDiscord\\n\\n\\n\\nabout page\\nWebpage Title:\\nhuggingface (Hugging Face)\\nWebpage Contents:\\nHugging Face\\nModels\\nDatasets\\nSpaces\\nCommunity\\nDocs\\nEnterprise\\nPricing\\nLog In\\nSign Up\\nHugging Face\\nEnterprise\\ncompany\\nVerified\\nhttps://huggingface.co\\nhuggingface\\nhuggingface\\nActivity Feed\\nFollow\\n43,506\\nAI & ML interests\\nThe AI community building the future.\\nRecent Activity\\nsayakpaul\\nupdated\\na dataset\\n1 day ago\\nhuggingface/diffusers-metadata\\npierric\\nupdated\\na Space\\n1 day ago\\nhuggingface/how-to-upgrade-to-enterprise\\nvictor\\nupdated\\na dataset\\n1 day ago\\nhuggingface/documentation-images\\nView all activity\\nArticles\\nYay! Organizations can now publish blog Articles\\nJan 20\\n•\\n46\\nTeam members\\n215\\n+181\\n+168\\n+147\\n+137\\n+117\\nOrganization Card\\nCommunity\\nAbout org cards\\n👋 Hi!\\nWe are on a mission to democratize\\ngood\\nmachine learning, one commit at a time.\\nIf that sounds like something '"
      ]
     },
     "execution_count": 22,
     "metadata": {},
     "output_type": "execute_result"
    }
   ],
   "source": [
    "get_brochure_user_prompt(\"HuggingFace\", \"https://huggingface.co\")\n"
   ]
  },
  {
   "cell_type": "code",
   "execution_count": 23,
   "id": "e550993c-4478-4d44-94f7-bc4eb3e77780",
   "metadata": {},
   "outputs": [
    {
     "name": "stdout",
     "output_type": "stream",
     "text": [
      "Found links: {'links': [{'type': 'about page', 'url': 'https://www.deeplearning.ai/about/'}, {'type': 'careers page', 'url': 'https://www.deeplearning.ai/careers/'}, {'type': 'community page', 'url': 'https://community.deeplearning.ai/'}]}\n"
     ]
    },
    {
     "data": {
      "text/plain": [
       "\"You are looking at a company called: DeepLearning.AI\\nHere are the contents of its landing page and other relevant pages; use this information to build a short brochure of the company in markdown.\\nLanding page:\\nWebpage Title:\\nMachine Learning Specialization - DeepLearning.AI\\nWebpage Contents:\\n✨ New course! Enroll in\\nOrchestrating Workflows for GenAI Applications\\nExplore Courses\\nAI Newsletter\\nThe Batch\\nAndrew's Letter\\nData Points\\nML Research\\nBlog\\nCommunity\\nForum\\nEvents\\nAmbassadors\\nAmbassador Spotlight\\nResources\\nCompany\\nAbout\\nCareers\\nContact\\nStart Learning\\nCourses\\nMachine Learning Specialization\\nOverview\\nInstructors\\nSyllabus\\nCourse Slides\\nFAQs\\nEnroll Now\\nStarting Your AI Career Has Never Been Easier\\n#BreakIntoAI\\nwith the new Machine Learning Specialization, an updated foundational program for beginners created by Andrew Ng.\\nEnroll Now\\nPresenting the new\\nMachine Learning Specialization\\nAbout the original course\\n2012\\nYear launched\\nRated 4.9 out of 5 by 170K learners\\n4.8 Million\\nLearners enrolled\\nAbout the instructor\\nA pioneer in the AI industry, Andrew Ng co-founded Google Brain and Coursera, led AI at Baidu, and has reached and impacted millions of learners with his machine learning courses.\\nHow the Machine Learning Specialization can help you\\nNewly rebuilt and expanded into 3 courses, the updated Specialization teaches foundational AI concepts through an intuitive visual approach, before introducing the code needed to implement the algorithms and the underlying math.\\nI’m a complete beginner\\nDoesn’t require prior math knowledge or a rigorous coding background\\nTakes the core curriculum — vetted by millions of learners over the years — and makes it more approachable\\nEach lesson begins with a visual representation of machine learning concepts, followed by the code, followed by optional videos explaining the underlying math\\nI enrolled in but didn’t complete the original Machine Learning course\\nDoesn’t require prior math knowledge or a rigorous coding background\\nBalances intuition, code practice, and mathematical theory to create a simple and effective learning experience\\nIncludes new ungraded code notebooks with code samples and interactive graphs to help you complete graded assignments\\n>\\nI’ve already completed the original Machine Learning course\\nGreat way to refresh foundational ML concepts\\nAssignments and lectures have been rebuilt to use Python rather than Octave\\nThe section on applying machine learning has been updated significantly based on emerging best practices from the last decade\\nNot for you? Take the next step with the\\nDeep Learning Specialization\\n!\\nEnroll Now\\nWhat Learners Are Saying\\n“As a Behavioral Scientist, I was able to adopt methods to understand my customers better, overcome the traditional ‘one-size-fits-all’ approach, and design interventions which account for personality and individual differences.”\\nLuo Yuzheng\\nAssistant Director, Monetary Authority of Singapore\\n“I gained confidence in my knowledge of machine learning. Since then, I’ve become a machine learning mentor, got a research paper published in IEEE, decided to pursue my Masters in Machine Learning, and was able to land a job at JP Morgan Chase.”\\nChirag Godawat\\nData Engineer, Vista\\n“The Machine Learning course became a guiding light. Andrew Ng explains concepts with simple visualizations and plots. I learned how to evaluate my training results and explain the outcomes to my colleagues, boss, and even the vice president of our company.”\\nHsin-Wen Chang\\nSr. C++ Developer, Zealogics\\n“The Machine Learning course helped develop my problem-solving skills, inspired an attitude of experimentation, and shaped a passion for machine learning. Since then, I have automated several investment processes and experimented with investment data.”\\nNicholas Muchinguri\\nSenior Trader, Vanguard Australia\\n“The Machine Learning course by Andrew Ng expanded my knowledge, so I could write a research paper on Facial Emotion Recognition and land an internship at Morgan Stanley.”\\nAakash Saroop\\nStudent, K. J. Somaiya College of Engineering\\n“In 2017, the Machine Learning course helped me gain a deep insight into Natural Language Processing and got me thinking about a new ML project with a friend. We built an ML app with a cloud instance to enhance recorded autobiographies with NLP-generated insights!”\\nShahid Mahmood\\nCTO & Co-Founder, How I Remember It, Inc.\\n“I’m a Computational Scientist with a Ph. D. in theoretical nuclear phsyics. I was working on a research project that involved archeological datasets that eventually led to a publication. The foundations of machine learning from Andrew’s class were essential in making it happen.”\\nChrysovalantis Constantinou\\nComputational Scientist, Cyprus Institute\\n“Andrew’s teaching style helped me grasp foundational concepts. The newly acquired knowledge from the Machine Learning course helped me land a second postdoctoral position, run tutorials for two data science courses, and write my first machine learning paper!”\\nYouness Bo\""
      ]
     },
     "execution_count": 23,
     "metadata": {},
     "output_type": "execute_result"
    }
   ],
   "source": [
    "get_brochure_user_prompt(\"DeepLearning.AI\", \"https://www.deeplearning.ai/courses/machine-learning-specialization/\")\n"
   ]
  },
  {
   "cell_type": "code",
   "execution_count": 24,
   "id": "fe2fd874-fa7f-4c1c-9c0c-0c2152876d1b",
   "metadata": {},
   "outputs": [],
   "source": [
    "def create_brochure(company_name, url):\n",
    "    response = openai.chat.completions.create(\n",
    "        model=MODEL,\n",
    "        messages=[\n",
    "            {\"role\": \"system\", \"content\": system_prompt},\n",
    "            {\"role\": \"user\", \"content\": get_brochure_user_prompt(company_name, url)}\n",
    "          ],\n",
    "    )\n",
    "    result = response.choices[0].message.content\n",
    "    display(Markdown(result))"
   ]
  },
  {
   "cell_type": "code",
   "execution_count": 25,
   "id": "235cf7c1-fd26-4245-b992-f8a71c5da4c1",
   "metadata": {},
   "outputs": [
    {
     "name": "stdout",
     "output_type": "stream",
     "text": [
      "Found links: {'links': [{'type': 'about page', 'url': 'https://huggingface.co/huggingface'}, {'type': 'careers page', 'url': 'https://apply.workable.com/huggingface/'}, {'type': 'blog page', 'url': 'https://huggingface.co/blog'}, {'type': 'enterprise page', 'url': 'https://huggingface.co/enterprise'}, {'type': 'pricing page', 'url': 'https://huggingface.co/pricing'}, {'type': 'docs page', 'url': 'https://huggingface.co/docs'}, {'type': 'community page', 'url': 'https://discuss.huggingface.co'}, {'type': 'GitHub page', 'url': 'https://github.com/huggingface'}, {'type': 'LinkedIn page', 'url': 'https://www.linkedin.com/company/huggingface/'}, {'type': 'Twitter page', 'url': 'https://twitter.com/huggingface'}]}\n"
     ]
    },
    {
     "data": {
      "text/markdown": [
       "# Hugging Face Brochure\n",
       "\n",
       "---\n",
       "\n",
       "## Welcome to Hugging Face\n",
       "\n",
       "**The AI community building the future.** Hugging Face serves as a collaboration hub for the machine learning community, where users can explore, create, and advance models, datasets, and applications within an open environment. \n",
       "\n",
       "---\n",
       "\n",
       "### What We Offer\n",
       "\n",
       "- **Models**: Browse and collaborate on over 1 million machine learning models.\n",
       "- **Datasets**: Access a rich repository of over 250k datasets to enhance your projects and research.\n",
       "- **Spaces**: Create and run applications effortlessly, empowering developers and creators alike.\n",
       "- **Enterprise Solutions**: Tailored services including enterprise-grade security, access control, and dedicated support, catering to teams of all sizes.\n",
       "  \n",
       "Explore trending models and applications within our vibrant community, including popular AI-powered tools for marketing content generation, OCR, and more.\n",
       "\n",
       "---\n",
       "\n",
       "### Our Community\n",
       "\n",
       "At Hugging Face, we believe in the power of collaboration. More than 50,000 organizations, including industry leaders like Google, Microsoft, and Amazon, use our platform. Our vibrant community continues to evolve, fueling innovation in AI and machine learning. Whether you’re a simple user or representing a large enterprise, you’ll find invaluable resources and support.\n",
       "\n",
       "---\n",
       "\n",
       "### Company Culture\n",
       "\n",
       "- **Open-Source Impact**: We are dedicated to democratizing machine learning. Contribution from community members is not only welcomed but encouraged as we build the future of AI together.\n",
       "- **Innovation Driven**: Our culture is steeped in creativity and experimentation. We continuously strive to push the boundaries of what’s possible with machine learning.\n",
       "- **Inclusivity**: A collaborative environment where everyone can share ideas and insights freely, fostering cross-disciplinary teamwork and knowledge-sharing.\n",
       "\n",
       "---\n",
       "\n",
       "### Careers at Hugging Face\n",
       "\n",
       "Join a passionate team dedicated to transforming the world of AI. We are looking for talented individuals who share our mission to democratize machine learning. Positions are available in various domains, including engineering, product management, and community engagement.\n",
       "\n",
       "- **Why Work With Us?**\n",
       "  - A stimulating environment that encourages initiative and innovation.\n",
       "  - Opportunities for professional growth and development.\n",
       "  - Be part of a community harnessing the power of AI for good.\n",
       "\n",
       "Explore career openings on our [Jobs page](https://huggingface.co/jobs) and contribute to shaping the future of AI.\n",
       "\n",
       "---\n",
       "\n",
       "## Get in Touch\n",
       "\n",
       "Drive innovation with us at Hugging Face! \n",
       "\n",
       "- **Website**: [Hugging Face](https://huggingface.co)\n",
       "- **Community Pages**: Join us on [GitHub](https://github.com/huggingface), [Twitter](https://twitter.com/huggingface), [LinkedIn](https://linkedin.com/company/huggingface), and [Discord](https://discord.com/invite/huggingface).\n",
       "  \n",
       "Together, let's make machine learning accessible for everyone, one commit at a time!"
      ],
      "text/plain": [
       "<IPython.core.display.Markdown object>"
      ]
     },
     "metadata": {},
     "output_type": "display_data"
    }
   ],
   "source": [
    "create_brochure(\"HuggingFace\", \"https://huggingface.co\")\n"
   ]
  },
  {
   "cell_type": "code",
   "execution_count": 26,
   "id": "b33a7a87-2c67-4e58-b0b1-87bd6140ada2",
   "metadata": {},
   "outputs": [
    {
     "name": "stdout",
     "output_type": "stream",
     "text": [
      "Found links: {'links': [{'type': 'about page', 'url': 'https://www.deeplearning.ai/about/'}, {'type': 'careers page', 'url': 'https://www.deeplearning.ai/careers/'}]}\n"
     ]
    },
    {
     "data": {
      "text/markdown": [
       "```markdown\n",
       "# DeepLearning.AI Brochure\n",
       "\n",
       "Welcome to **DeepLearning.AI**, a leader in artificial intelligence education and innovation.\n",
       "\n",
       "## Company Overview\n",
       "Founded by the renowned AI pioneer **Andrew Ng**, co-founder of Google Brain and Coursera, DeepLearning.AI is dedicated to empowering individuals with knowledge and skills in artificial intelligence and machine learning. Our transformative educational offerings, including the **Machine Learning Specialization**, equip learners with the foundational and advanced concepts necessary to thrive in the AI landscape.\n",
       "\n",
       "### Our Courses\n",
       "- **Machine Learning Specialization**: An updated foundational program designed specifically for beginners. This course comprises three comprehensive modules that balance intuition, hands-on coding, and mathematical theory to create an effective learning experience.\n",
       "- **Deep Learning Specialization**: Take the next step in your AI journey with our advanced deep learning courses.\n",
       "\n",
       "## Company Culture\n",
       "At DeepLearning.AI, we believe in fostering a supportive and inclusive environment where learners from all backgrounds can thrive. Our culture emphasizes **innovation**, **collaboration**, and **continuous learning**, empowering our community to advance the field of AI.\n",
       "\n",
       "### Community Engagement\n",
       "- **Forums**: Engage with fellow learners and industry experts.\n",
       "- **Events**: Participate in a range of workshops and networking events to expand your knowledge and connections within the AI community.\n",
       "- **Ambassador Program**: Join our ambassador program to gain additional learning opportunities and showcase your skills.\n",
       "\n",
       "## Our Customers\n",
       "DeepLearning.AI has reached **over 4.8 million learners** from diverse fields, including:\n",
       "- Data Engineering\n",
       "- Computational Science\n",
       "- Behavioral Science\n",
       "- Financial Services\n",
       "\n",
       "### Success Stories\n",
       "Our learners have found great success by applying knowledge gained from our courses:\n",
       "- **Chirag Godawat** landed a job at JP Morgan Chase.\n",
       "- **Aakash Saroop** authored a research paper and secured an internship at Morgan Stanley.\n",
       "- **Nicholas Muchinguri** automated investment processes after gaining insights from our Machine Learning course.\n",
       "\n",
       "## Careers at DeepLearning.AI\n",
       "We are always looking for passionate individuals to join our team. If you love AI and education and are eager to make a difference, consider a career with us! Explore available positions on our **Careers** page to see how you can contribute to our mission.\n",
       "\n",
       "### Join Us Today!\n",
       "Whether you are looking to **break into AI**, enhance your skills, or explore a career with us, DeepLearning.AI is your partner in innovation and growth.\n",
       "\n",
       "[Start Learning Now](#) | [Explore Careers](#) \n",
       "```\n"
      ],
      "text/plain": [
       "<IPython.core.display.Markdown object>"
      ]
     },
     "metadata": {},
     "output_type": "display_data"
    }
   ],
   "source": [
    "create_brochure(\"deeplearning.AI\", \"https://www.deeplearning.ai/courses/machine-learning-specialization/\")\n"
   ]
  },
  {
   "cell_type": "code",
   "execution_count": 27,
   "id": "e69df258-a310-4a30-b974-6add736183e2",
   "metadata": {},
   "outputs": [],
   "source": [
    "def stream_brochure(company_name, url):\n",
    "    stream = openai.chat.completions.create(\n",
    "        model=MODEL,\n",
    "        messages=[\n",
    "            {\"role\": \"system\", \"content\": system_prompt},\n",
    "            {\"role\": \"user\", \"content\": get_brochure_user_prompt(company_name, url)}\n",
    "          ],\n",
    "        stream=True\n",
    "    )\n",
    "    \n",
    "    response = \"\"\n",
    "    display_handle = display(Markdown(\"\"), display_id=True)\n",
    "    for chunk in stream:\n",
    "        response += chunk.choices[0].delta.content or ''\n",
    "        response = response.replace(\"```\",\"\").replace(\"markdown\", \"\")\n",
    "        update_display(Markdown(response), display_id=display_handle.display_id)"
   ]
  },
  {
   "cell_type": "code",
   "execution_count": 28,
   "id": "2baba71f-c61d-4d94-9b5f-f27e00d3b4f3",
   "metadata": {},
   "outputs": [
    {
     "name": "stdout",
     "output_type": "stream",
     "text": [
      "Found links: {'links': [{'type': 'about page', 'url': 'https://huggingface.co/about'}, {'type': 'careers page', 'url': 'https://apply.workable.com/huggingface/'}, {'type': 'enterprise page', 'url': 'https://huggingface.co/enterprise'}, {'type': 'pricing page', 'url': 'https://huggingface.co/pricing'}, {'type': 'documentation page', 'url': 'https://huggingface.co/docs'}, {'type': 'blog page', 'url': 'https://huggingface.co/blog'}, {'type': 'community page', 'url': 'https://discuss.huggingface.co'}, {'type': 'GitHub page', 'url': 'https://github.com/huggingface'}, {'type': 'Twitter page', 'url': 'https://twitter.com/huggingface'}, {'type': 'LinkedIn page', 'url': 'https://www.linkedin.com/company/huggingface/'}]}\n"
     ]
    },
    {
     "data": {
      "text/markdown": [
       "# Hugging Face Brochure\n",
       "\n",
       "## Company Overview\n",
       "**Hugging Face** is an innovative AI community dedicated to building the future of machine learning (ML). It serves as a collaborative platform for users to create, discover, and share over 1 million models, 250,000 datasets, and numerous applications. Hugging Face fosters a vibrant community where researchers and developers can work together to advance the field of artificial intelligence.\n",
       "\n",
       "## Our Mission\n",
       "We aim to accelerate the adoption of machine learning by providing tools and resources that make it easier for everyone to engage with and deploy AI.\n",
       "\n",
       "## Key Offerings\n",
       "- **Models & Datasets:** Access to a vast library of pre-trained models and datasets, supporting a wide range of modalities such as text, images, video, and audio.\n",
       "- **Spaces:** A platform for users to build and deploy applications quickly and effortlessly.\n",
       "- **Enterprise Solutions:** Advanced features tailored for organizations, including enterprise-grade security, dedicated support, and scalable compute options starting at just $20/user/month.\n",
       "- **Open Source:** Hugging Face is committed to open-source contributions, providing tools like Transformers, Diffusers, and Tokenizers for the community to build upon.\n",
       "\n",
       "## Customers & Collaborations\n",
       "Hugging Face is trusted by over 50,000 organizations, including industry giants such as:\n",
       "- **Meta**\n",
       "- **Amazon**\n",
       "- **Google**\n",
       "- **Microsoft**\n",
       "- **Grammarly**\n",
       "\n",
       "Darwin among them, these organizations utilize Hugging Face’s offerings to enhance their AI capabilities and drive innovation.\n",
       "\n",
       "## Company Culture\n",
       "At Hugging Face, we pride ourselves on a collaborative and inclusive work environment. We embrace transparency, encourage knowledge sharing, and foster creativity. Our culture promotes continuous learning, where team members are encouraged to explore their interests in AI and ML. \n",
       "\n",
       "## Career Opportunities\n",
       "Hugging Face is actively looking for talented individuals to join our team. With a wide range of career prospects available, we invite you to explore the current openings in various domains within the AI field. \n",
       "\n",
       "If you're passionate about machine learning and want to make an impact, consider joining us in our mission to democratize AI!\n",
       "\n",
       "## Get In Touch!\n",
       "To learn more about Hugging Face, explore our resources, or join the community, please visit our [website](https://huggingface.co) or follow us on our social platforms.\n",
       "\n",
       "---\n",
       "\n",
       "Join us in building the future of AI together!"
      ],
      "text/plain": [
       "<IPython.core.display.Markdown object>"
      ]
     },
     "metadata": {},
     "output_type": "display_data"
    }
   ],
   "source": [
    "stream_brochure(\"HuggingFace\", \"https://huggingface.co\")\n"
   ]
  },
  {
   "cell_type": "code",
   "execution_count": 29,
   "id": "438f4fd6-be83-4883-ba3d-441077627f7b",
   "metadata": {},
   "outputs": [
    {
     "name": "stdout",
     "output_type": "stream",
     "text": [
      "Found links: {'links': [{'type': 'about page', 'url': 'https://www.deeplearning.ai/about/'}, {'type': 'careers page', 'url': 'https://www.deeplearning.ai/careers/'}]}\n"
     ]
    },
    {
     "data": {
      "text/markdown": [
       "# Deeplearning.AI Brochure\n",
       "\n",
       "---\n",
       "\n",
       "## Welcome to Deeplearning.AI\n",
       "\n",
       "### Your Gateway to AI Education\n",
       "\n",
       "At Deeplearning.AI, we believe that understanding AI and machine learning should be accessible to everyone. With our renowned courses designed by AI pioneer Andrew Ng, we help learners break into the world of AI.\n",
       "\n",
       "---\n",
       "\n",
       "## Courses Offered\n",
       "\n",
       "### Machine Learning Specialization\n",
       "\n",
       "- **New Course:** Orchestrating Workflows for GenAI Applications\n",
       "- **Enroll in:** Machine Learning Specialization, a foundational program perfect for beginners.\n",
       "- **Course Rating:** 4.9 out of 5 from 170K learners.\n",
       "- **Total Learners:** 4.8 million people have embarked on their AI journey with us.\n",
       "\n",
       "#### Course Highlights:\n",
       "- **No Prior Experience Required:** The course is designed for complete beginners and does not necessitate a rigorous coding background.\n",
       "- **Visual Learning Approach:** Each lesson begins with intuitive visuals followed by practical coding examples.\n",
       "- **Updated Content:** The curriculum has been rebuilt to use Python and incorporates best practices from the last decade in machine learning.\n",
       "\n",
       "---\n",
       "\n",
       "## What Our Learners Say\n",
       "\n",
       "Hear from our learners who have transformed their careers through our courses:\n",
       "\n",
       "- **Luo Yuzheng** (Monetary Authority of Singapore): \"I adopted methods to understand my customers better, breaking away from the one-size-fits-all approach.\"\n",
       "- **Chirag Godawat** (Vista): \"I gained confidence and landed a job at JP Morgan Chase after completing the course.\"\n",
       "- **Hsin-Wen Chang** (Zealogics): \"Andrew Ng's concepts became a guiding light that helped me explain outcomes to my colleagues.\"\n",
       "\n",
       "---\n",
       "\n",
       "## Community Engagement\n",
       "\n",
       "Join our vibrant community where learners can engage through forums, newsletters, and events:\n",
       "\n",
       "- **The Batch:** Our AI newsletter featuring updates and insights from the AI world.\n",
       "- **Ambassadors:** Connect with community members who advocate for AI education.\n",
       "\n",
       "---\n",
       "\n",
       "## Company Culture\n",
       "\n",
       "At Deeplearning.AI, we champion a culture of learning, curiosity, and inclusivity. Our team is committed to making AI education innovative and approachable, focusing on:\n",
       "\n",
       "- **Diversity:** We value diverse perspectives and strive for an inclusive environment.\n",
       "- **Collaboration:** Teamwork drives our initiatives as we work together to expand the horizons of AI.\n",
       "\n",
       "---\n",
       "\n",
       "## Careers\n",
       "\n",
       "Are you passionate about AI and education? Join our team and help shape the future of machine learning learning:\n",
       "\n",
       "- **Open Positions:** Check out our careers page for current job openings.\n",
       "- **Career Growth:** We provide ample opportunities for professional development and career advancement.\n",
       "\n",
       "---\n",
       "\n",
       "## Contact Us\n",
       "\n",
       "Ready to level up your AI skills or learn more about joining our team? Reach out to us:\n",
       "\n",
       "- **Website:** [Deeplearning.AI](https://www.deeplearning.ai)\n",
       "- **Email:** info@deeplearning.ai\n",
       "- **Follow Us:** Stay connected on our social platforms for updates.\n",
       "\n",
       "---\n",
       "\n",
       "### Start Your AI Journey Today!\n",
       "\n",
       "**Enroll Now and Break Into AI!**\n",
       "\n",
       "--- \n",
       "\n",
       "Join us at Deeplearning.AI to empower your future with AI capabilities!"
      ],
      "text/plain": [
       "<IPython.core.display.Markdown object>"
      ]
     },
     "metadata": {},
     "output_type": "display_data"
    }
   ],
   "source": [
    "stream_brochure(\"Deeplearning.AI\", \"https://www.deeplearning.ai/courses/machine-learning-specialization/\")\n"
   ]
  },
  {
   "cell_type": "code",
   "execution_count": null,
   "id": "68343d93-a244-44ab-877f-68ba7e313ee8",
   "metadata": {},
   "outputs": [],
   "source": []
  }
 ],
 "metadata": {
  "kernelspec": {
   "display_name": "Python 3 (ipykernel)",
   "language": "python",
   "name": "python3"
  },
  "language_info": {
   "codemirror_mode": {
    "name": "ipython",
    "version": 3
   },
   "file_extension": ".py",
   "mimetype": "text/x-python",
   "name": "python",
   "nbconvert_exporter": "python",
   "pygments_lexer": "ipython3",
   "version": "3.12.8"
  }
 },
 "nbformat": 4,
 "nbformat_minor": 5
}
